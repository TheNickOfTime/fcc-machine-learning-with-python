{
  "cells": [
    {
      "cell_type": "code",
      "execution_count": null,
      "metadata": {},
      "outputs": [],
      "source": [
        "%pip install matplotlib numpy pandas tensorflow-cpu tensorflow-docs pydot-ng graphviz"
      ]
    },
    {
      "cell_type": "code",
      "execution_count": 2,
      "metadata": {
        "id": "1rRo8oNqZ-Rj"
      },
      "outputs": [],
      "source": [
        "# Import libraries. You may or may not use all of these.\n",
        "import matplotlib.pyplot as plt\n",
        "import numpy as np\n",
        "import pandas as pd\n",
        "import tensorflow as tf\n",
        "\n",
        "from tensorflow import keras\n",
        "from keras import layers\n",
        "\n",
        "import os.path"
      ]
    },
    {
      "cell_type": "code",
      "execution_count": 3,
      "metadata": {
        "id": "CiX2FI4gZtTt"
      },
      "outputs": [
        {
          "name": "stdout",
          "output_type": "stream",
          "text": [
            "--2024-04-05 00:46:53--  https://cdn.freecodecamp.org/project-data/health-costs/insurance.csv\n",
            "Resolving cdn.freecodecamp.org (cdn.freecodecamp.org)... 104.26.3.33, 104.26.2.33, 172.67.70.149, ...\n",
            "Connecting to cdn.freecodecamp.org (cdn.freecodecamp.org)|104.26.3.33|:443... connected.\n",
            "HTTP request sent, awaiting response... 200 OK\n",
            "Length: 50264 (49K) [text/csv]\n",
            "Saving to: ‘insurance.csv’\n",
            "\n",
            "insurance.csv       100%[===================>]  49.09K  --.-KB/s    in 0.007s  \n",
            "\n",
            "2024-04-05 00:46:53 (6.60 MB/s) - ‘insurance.csv’ saved [50264/50264]\n",
            "\n"
          ]
        },
        {
          "data": {
            "text/html": [
              "<div>\n",
              "<style scoped>\n",
              "    .dataframe tbody tr th:only-of-type {\n",
              "        vertical-align: middle;\n",
              "    }\n",
              "\n",
              "    .dataframe tbody tr th {\n",
              "        vertical-align: top;\n",
              "    }\n",
              "\n",
              "    .dataframe thead th {\n",
              "        text-align: right;\n",
              "    }\n",
              "</style>\n",
              "<table border=\"1\" class=\"dataframe\">\n",
              "  <thead>\n",
              "    <tr style=\"text-align: right;\">\n",
              "      <th></th>\n",
              "      <th>age</th>\n",
              "      <th>sex</th>\n",
              "      <th>bmi</th>\n",
              "      <th>children</th>\n",
              "      <th>smoker</th>\n",
              "      <th>region</th>\n",
              "      <th>expenses</th>\n",
              "    </tr>\n",
              "  </thead>\n",
              "  <tbody>\n",
              "    <tr>\n",
              "      <th>1333</th>\n",
              "      <td>50</td>\n",
              "      <td>male</td>\n",
              "      <td>31.0</td>\n",
              "      <td>3</td>\n",
              "      <td>no</td>\n",
              "      <td>northwest</td>\n",
              "      <td>10600.55</td>\n",
              "    </tr>\n",
              "    <tr>\n",
              "      <th>1334</th>\n",
              "      <td>18</td>\n",
              "      <td>female</td>\n",
              "      <td>31.9</td>\n",
              "      <td>0</td>\n",
              "      <td>no</td>\n",
              "      <td>northeast</td>\n",
              "      <td>2205.98</td>\n",
              "    </tr>\n",
              "    <tr>\n",
              "      <th>1335</th>\n",
              "      <td>18</td>\n",
              "      <td>female</td>\n",
              "      <td>36.9</td>\n",
              "      <td>0</td>\n",
              "      <td>no</td>\n",
              "      <td>southeast</td>\n",
              "      <td>1629.83</td>\n",
              "    </tr>\n",
              "    <tr>\n",
              "      <th>1336</th>\n",
              "      <td>21</td>\n",
              "      <td>female</td>\n",
              "      <td>25.8</td>\n",
              "      <td>0</td>\n",
              "      <td>no</td>\n",
              "      <td>southwest</td>\n",
              "      <td>2007.95</td>\n",
              "    </tr>\n",
              "    <tr>\n",
              "      <th>1337</th>\n",
              "      <td>61</td>\n",
              "      <td>female</td>\n",
              "      <td>29.1</td>\n",
              "      <td>0</td>\n",
              "      <td>yes</td>\n",
              "      <td>northwest</td>\n",
              "      <td>29141.36</td>\n",
              "    </tr>\n",
              "  </tbody>\n",
              "</table>\n",
              "</div>"
            ],
            "text/plain": [
              "      age     sex   bmi  children smoker     region  expenses\n",
              "1333   50    male  31.0         3     no  northwest  10600.55\n",
              "1334   18  female  31.9         0     no  northeast   2205.98\n",
              "1335   18  female  36.9         0     no  southeast   1629.83\n",
              "1336   21  female  25.8         0     no  southwest   2007.95\n",
              "1337   61  female  29.1         0    yes  northwest  29141.36"
            ]
          },
          "execution_count": 3,
          "metadata": {},
          "output_type": "execute_result"
        }
      ],
      "source": [
        "# Import data\n",
        "if not os.path.isfile('insurance.csv'):\n",
        "\t!wget 'https://cdn.freecodecamp.org/project-data/health-costs/insurance.csv'\n",
        "\n",
        "dataset = pd.read_csv('insurance.csv')\n",
        "dataset.tail()"
      ]
    },
    {
      "cell_type": "code",
      "execution_count": 4,
      "metadata": {},
      "outputs": [
        {
          "data": {
            "text/html": [
              "<div>\n",
              "<style scoped>\n",
              "    .dataframe tbody tr th:only-of-type {\n",
              "        vertical-align: middle;\n",
              "    }\n",
              "\n",
              "    .dataframe tbody tr th {\n",
              "        vertical-align: top;\n",
              "    }\n",
              "\n",
              "    .dataframe thead th {\n",
              "        text-align: right;\n",
              "    }\n",
              "</style>\n",
              "<table border=\"1\" class=\"dataframe\">\n",
              "  <thead>\n",
              "    <tr style=\"text-align: right;\">\n",
              "      <th></th>\n",
              "      <th>age</th>\n",
              "      <th>sex</th>\n",
              "      <th>bmi</th>\n",
              "      <th>children</th>\n",
              "      <th>smoker</th>\n",
              "      <th>region</th>\n",
              "      <th>expenses</th>\n",
              "    </tr>\n",
              "  </thead>\n",
              "  <tbody>\n",
              "    <tr>\n",
              "      <th>0</th>\n",
              "      <td>19</td>\n",
              "      <td>1</td>\n",
              "      <td>27.9</td>\n",
              "      <td>0</td>\n",
              "      <td>1</td>\n",
              "      <td>1</td>\n",
              "      <td>16884.92</td>\n",
              "    </tr>\n",
              "    <tr>\n",
              "      <th>1</th>\n",
              "      <td>18</td>\n",
              "      <td>2</td>\n",
              "      <td>33.8</td>\n",
              "      <td>1</td>\n",
              "      <td>2</td>\n",
              "      <td>2</td>\n",
              "      <td>1725.55</td>\n",
              "    </tr>\n",
              "    <tr>\n",
              "      <th>2</th>\n",
              "      <td>28</td>\n",
              "      <td>2</td>\n",
              "      <td>33.0</td>\n",
              "      <td>3</td>\n",
              "      <td>2</td>\n",
              "      <td>2</td>\n",
              "      <td>4449.46</td>\n",
              "    </tr>\n",
              "    <tr>\n",
              "      <th>3</th>\n",
              "      <td>33</td>\n",
              "      <td>2</td>\n",
              "      <td>22.7</td>\n",
              "      <td>0</td>\n",
              "      <td>2</td>\n",
              "      <td>3</td>\n",
              "      <td>21984.47</td>\n",
              "    </tr>\n",
              "    <tr>\n",
              "      <th>4</th>\n",
              "      <td>32</td>\n",
              "      <td>2</td>\n",
              "      <td>28.9</td>\n",
              "      <td>0</td>\n",
              "      <td>2</td>\n",
              "      <td>3</td>\n",
              "      <td>3866.86</td>\n",
              "    </tr>\n",
              "  </tbody>\n",
              "</table>\n",
              "</div>"
            ],
            "text/plain": [
              "   age  sex   bmi  children  smoker  region  expenses\n",
              "0   19    1  27.9         0       1       1  16884.92\n",
              "1   18    2  33.8         1       2       2   1725.55\n",
              "2   28    2  33.0         3       2       2   4449.46\n",
              "3   33    2  22.7         0       2       3  21984.47\n",
              "4   32    2  28.9         0       2       3   3866.86"
            ]
          },
          "metadata": {},
          "output_type": "display_data"
        }
      ],
      "source": [
        "# encode categorical data\n",
        "\n",
        "for column in dataset.columns:\n",
        "\tif dataset[column].dtype == 'object':\n",
        "\t\tencoder = layers.StringLookup(vocabulary=dataset[column].unique())\n",
        "\t\tdataset[column] = pd.Series(encoder(dataset[column]).numpy())\n",
        "\n",
        "display(dataset.head())"
      ]
    },
    {
      "cell_type": "code",
      "execution_count": 5,
      "metadata": {
        "id": "LcopvQh3X-kX"
      },
      "outputs": [
        {
          "name": "stderr",
          "output_type": "stream",
          "text": [
            "/usr/local/python/3.10.14/lib/python3.10/site-packages/numpy/core/fromnumeric.py:59: FutureWarning: 'DataFrame.swapaxes' is deprecated and will be removed in a future version. Please use 'DataFrame.transpose' instead.\n",
            "  return bound(*args, **kwds)\n"
          ]
        },
        {
          "data": {
            "text/html": [
              "<div>\n",
              "<style scoped>\n",
              "    .dataframe tbody tr th:only-of-type {\n",
              "        vertical-align: middle;\n",
              "    }\n",
              "\n",
              "    .dataframe tbody tr th {\n",
              "        vertical-align: top;\n",
              "    }\n",
              "\n",
              "    .dataframe thead th {\n",
              "        text-align: right;\n",
              "    }\n",
              "</style>\n",
              "<table border=\"1\" class=\"dataframe\">\n",
              "  <thead>\n",
              "    <tr style=\"text-align: right;\">\n",
              "      <th></th>\n",
              "      <th>age</th>\n",
              "      <th>sex</th>\n",
              "      <th>bmi</th>\n",
              "      <th>children</th>\n",
              "      <th>smoker</th>\n",
              "      <th>region</th>\n",
              "      <th>expenses</th>\n",
              "    </tr>\n",
              "  </thead>\n",
              "  <tbody>\n",
              "    <tr>\n",
              "      <th>0</th>\n",
              "      <td>19</td>\n",
              "      <td>1</td>\n",
              "      <td>27.9</td>\n",
              "      <td>0</td>\n",
              "      <td>1</td>\n",
              "      <td>1</td>\n",
              "      <td>16884.92</td>\n",
              "    </tr>\n",
              "    <tr>\n",
              "      <th>1</th>\n",
              "      <td>18</td>\n",
              "      <td>2</td>\n",
              "      <td>33.8</td>\n",
              "      <td>1</td>\n",
              "      <td>2</td>\n",
              "      <td>2</td>\n",
              "      <td>1725.55</td>\n",
              "    </tr>\n",
              "    <tr>\n",
              "      <th>2</th>\n",
              "      <td>28</td>\n",
              "      <td>2</td>\n",
              "      <td>33.0</td>\n",
              "      <td>3</td>\n",
              "      <td>2</td>\n",
              "      <td>2</td>\n",
              "      <td>4449.46</td>\n",
              "    </tr>\n",
              "    <tr>\n",
              "      <th>3</th>\n",
              "      <td>33</td>\n",
              "      <td>2</td>\n",
              "      <td>22.7</td>\n",
              "      <td>0</td>\n",
              "      <td>2</td>\n",
              "      <td>3</td>\n",
              "      <td>21984.47</td>\n",
              "    </tr>\n",
              "    <tr>\n",
              "      <th>4</th>\n",
              "      <td>32</td>\n",
              "      <td>2</td>\n",
              "      <td>28.9</td>\n",
              "      <td>0</td>\n",
              "      <td>2</td>\n",
              "      <td>3</td>\n",
              "      <td>3866.86</td>\n",
              "    </tr>\n",
              "  </tbody>\n",
              "</table>\n",
              "</div>"
            ],
            "text/plain": [
              "   age  sex   bmi  children  smoker  region  expenses\n",
              "0   19    1  27.9         0       1       1  16884.92\n",
              "1   18    2  33.8         1       2       2   1725.55\n",
              "2   28    2  33.0         3       2       2   4449.46\n",
              "3   33    2  22.7         0       2       3  21984.47\n",
              "4   32    2  28.9         0       2       3   3866.86"
            ]
          },
          "metadata": {},
          "output_type": "display_data"
        },
        {
          "data": {
            "text/html": [
              "<div>\n",
              "<style scoped>\n",
              "    .dataframe tbody tr th:only-of-type {\n",
              "        vertical-align: middle;\n",
              "    }\n",
              "\n",
              "    .dataframe tbody tr th {\n",
              "        vertical-align: top;\n",
              "    }\n",
              "\n",
              "    .dataframe thead th {\n",
              "        text-align: right;\n",
              "    }\n",
              "</style>\n",
              "<table border=\"1\" class=\"dataframe\">\n",
              "  <thead>\n",
              "    <tr style=\"text-align: right;\">\n",
              "      <th></th>\n",
              "      <th>age</th>\n",
              "      <th>sex</th>\n",
              "      <th>bmi</th>\n",
              "      <th>children</th>\n",
              "      <th>smoker</th>\n",
              "      <th>region</th>\n",
              "      <th>expenses</th>\n",
              "    </tr>\n",
              "  </thead>\n",
              "  <tbody>\n",
              "    <tr>\n",
              "      <th>1070</th>\n",
              "      <td>37</td>\n",
              "      <td>2</td>\n",
              "      <td>37.1</td>\n",
              "      <td>1</td>\n",
              "      <td>1</td>\n",
              "      <td>2</td>\n",
              "      <td>39871.70</td>\n",
              "    </tr>\n",
              "    <tr>\n",
              "      <th>1071</th>\n",
              "      <td>63</td>\n",
              "      <td>2</td>\n",
              "      <td>31.4</td>\n",
              "      <td>0</td>\n",
              "      <td>2</td>\n",
              "      <td>4</td>\n",
              "      <td>13974.46</td>\n",
              "    </tr>\n",
              "    <tr>\n",
              "      <th>1072</th>\n",
              "      <td>21</td>\n",
              "      <td>2</td>\n",
              "      <td>31.3</td>\n",
              "      <td>0</td>\n",
              "      <td>2</td>\n",
              "      <td>3</td>\n",
              "      <td>1909.53</td>\n",
              "    </tr>\n",
              "    <tr>\n",
              "      <th>1073</th>\n",
              "      <td>54</td>\n",
              "      <td>1</td>\n",
              "      <td>28.9</td>\n",
              "      <td>2</td>\n",
              "      <td>2</td>\n",
              "      <td>4</td>\n",
              "      <td>12096.65</td>\n",
              "    </tr>\n",
              "    <tr>\n",
              "      <th>1074</th>\n",
              "      <td>60</td>\n",
              "      <td>1</td>\n",
              "      <td>18.3</td>\n",
              "      <td>0</td>\n",
              "      <td>2</td>\n",
              "      <td>4</td>\n",
              "      <td>13204.29</td>\n",
              "    </tr>\n",
              "  </tbody>\n",
              "</table>\n",
              "</div>"
            ],
            "text/plain": [
              "      age  sex   bmi  children  smoker  region  expenses\n",
              "1070   37    2  37.1         1       1       2  39871.70\n",
              "1071   63    2  31.4         0       2       4  13974.46\n",
              "1072   21    2  31.3         0       2       3   1909.53\n",
              "1073   54    1  28.9         2       2       4  12096.65\n",
              "1074   60    1  18.3         0       2       4  13204.29"
            ]
          },
          "metadata": {},
          "output_type": "display_data"
        }
      ],
      "source": [
        "# split dataset for training and testing\n",
        "train_dataset, test_dataset = np.split(dataset, [int(0.8 * len(dataset))])\n",
        "display(train_dataset.head())\n",
        "display(test_dataset.head())"
      ]
    },
    {
      "cell_type": "code",
      "execution_count": 6,
      "metadata": {},
      "outputs": [],
      "source": [
        "# pop off expenses column for labels\n",
        "train_labels = train_dataset.pop('expenses')\n",
        "test_labels = test_dataset.pop('expenses')\n",
        "\n",
        "# display(train_dataset.head())\n",
        "# display(train_labels.head())"
      ]
    },
    {
      "cell_type": "code",
      "execution_count": 7,
      "metadata": {},
      "outputs": [],
      "source": [
        "# create normalizer (still unclear what this does or why it helps increase accuracy)\n",
        "normalizer = tf.keras.layers.Normalization(axis=-1)\n",
        "normalizer.adapt(np.array(train_dataset))"
      ]
    },
    {
      "cell_type": "code",
      "execution_count": 8,
      "metadata": {},
      "outputs": [],
      "source": [
        "# build and compile model\n",
        "\n",
        "model = tf.keras.Sequential([\n",
        "\tnormalizer,\n",
        "\tlayers.Dense(64),\n",
        "\tlayers.Dense(64),\n",
        "\tlayers.Dense(64),\n",
        "\tlayers.Dense(1)\n",
        "])\n",
        "\n",
        "model.compile(\n",
        "\tloss=keras.losses.MeanAbsoluteError(),\n",
        "\toptimizer=keras.optimizers.Adam(),\n",
        "\tmetrics=['mae', 'mse']\n",
        ")"
      ]
    },
    {
      "cell_type": "code",
      "execution_count": 9,
      "metadata": {},
      "outputs": [
        {
          "name": "stdout",
          "output_type": "stream",
          "text": [
            "Epoch 1/25\n",
            "34/34 [==============================] - 1s 2ms/step - loss: 13213.5361 - mae: 13213.5361 - mse: 319285408.0000\n",
            "Epoch 2/25\n",
            "34/34 [==============================] - 0s 2ms/step - loss: 13207.3789 - mae: 13207.3789 - mse: 319148832.0000\n",
            "Epoch 3/25\n",
            "34/34 [==============================] - 0s 2ms/step - loss: 13151.5391 - mae: 13151.5391 - mse: 317838848.0000\n",
            "Epoch 4/25\n",
            "34/34 [==============================] - 0s 2ms/step - loss: 12847.5625 - mae: 12847.5625 - mse: 310506656.0000\n",
            "Epoch 5/25\n",
            "34/34 [==============================] - 0s 2ms/step - loss: 11854.3408 - mae: 11854.3408 - mse: 286339904.0000\n",
            "Epoch 6/25\n",
            "34/34 [==============================] - 0s 1ms/step - loss: 9744.4736 - mae: 9744.4736 - mse: 230414656.0000\n",
            "Epoch 7/25\n",
            "34/34 [==============================] - 0s 2ms/step - loss: 6628.1401 - mae: 6628.1401 - mse: 143227360.0000\n",
            "Epoch 8/25\n",
            "34/34 [==============================] - 0s 2ms/step - loss: 4549.7725 - mae: 4549.7725 - mse: 86591000.0000\n",
            "Epoch 9/25\n",
            "34/34 [==============================] - 0s 2ms/step - loss: 3727.6589 - mae: 3727.6589 - mse: 60248120.0000\n",
            "Epoch 10/25\n",
            "34/34 [==============================] - 0s 2ms/step - loss: 3630.4531 - mae: 3630.4531 - mse: 53203240.0000\n",
            "Epoch 11/25\n",
            "34/34 [==============================] - 0s 1ms/step - loss: 3606.2073 - mae: 3606.2073 - mse: 49857936.0000\n",
            "Epoch 12/25\n",
            "34/34 [==============================] - 0s 2ms/step - loss: 3585.7683 - mae: 3585.7683 - mse: 47896352.0000\n",
            "Epoch 13/25\n",
            "34/34 [==============================] - 0s 1ms/step - loss: 3570.1201 - mae: 3570.1201 - mse: 45032712.0000\n",
            "Epoch 14/25\n",
            "34/34 [==============================] - 0s 1ms/step - loss: 3547.4985 - mae: 3547.4985 - mse: 43136012.0000\n",
            "Epoch 15/25\n",
            "34/34 [==============================] - 0s 1ms/step - loss: 3530.9045 - mae: 3530.9045 - mse: 42560196.0000\n",
            "Epoch 16/25\n",
            "34/34 [==============================] - 0s 1ms/step - loss: 3520.0017 - mae: 3520.0017 - mse: 41572268.0000\n",
            "Epoch 17/25\n",
            "34/34 [==============================] - 0s 1ms/step - loss: 3496.8606 - mae: 3496.8606 - mse: 40980348.0000\n",
            "Epoch 18/25\n",
            "34/34 [==============================] - 0s 1ms/step - loss: 3474.7922 - mae: 3474.7922 - mse: 41603064.0000\n",
            "Epoch 19/25\n",
            "34/34 [==============================] - 0s 1ms/step - loss: 3448.9646 - mae: 3448.9646 - mse: 42474940.0000\n",
            "Epoch 20/25\n",
            "34/34 [==============================] - 0s 2ms/step - loss: 3433.2424 - mae: 3433.2424 - mse: 43527040.0000\n",
            "Epoch 21/25\n",
            "34/34 [==============================] - 0s 2ms/step - loss: 3426.3948 - mae: 3426.3948 - mse: 45972212.0000\n",
            "Epoch 22/25\n",
            "34/34 [==============================] - 0s 2ms/step - loss: 3405.9348 - mae: 3405.9348 - mse: 48197388.0000\n",
            "Epoch 23/25\n",
            "34/34 [==============================] - 0s 1ms/step - loss: 3411.5859 - mae: 3411.5859 - mse: 48054404.0000\n",
            "Epoch 24/25\n",
            "34/34 [==============================] - 0s 1ms/step - loss: 3415.2390 - mae: 3415.2390 - mse: 48074932.0000\n",
            "Epoch 25/25\n",
            "34/34 [==============================] - 0s 2ms/step - loss: 3423.0857 - mae: 3423.0857 - mse: 46991036.0000\n"
          ]
        },
        {
          "data": {
            "text/plain": [
              "<keras.src.callbacks.History at 0x7fdbab454c40>"
            ]
          },
          "execution_count": 9,
          "metadata": {},
          "output_type": "execute_result"
        }
      ],
      "source": [
        "# train model\n",
        "model.fit(train_dataset, train_labels, epochs=25)"
      ]
    },
    {
      "cell_type": "code",
      "execution_count": 10,
      "metadata": {},
      "outputs": [
        {
          "name": "stdout",
          "output_type": "stream",
          "text": [
            "9/9 [==============================] - 0s 1ms/step - loss: 3494.8337 - mae: 3494.8337 - mse: 46196956.0000\n"
          ]
        },
        {
          "data": {
            "text/plain": [
              "[3494.833740234375, 3494.833740234375, 46196956.0]"
            ]
          },
          "execution_count": 10,
          "metadata": {},
          "output_type": "execute_result"
        }
      ],
      "source": [
        "# see how we are doing\n",
        "model.evaluate(test_dataset, test_labels)"
      ]
    },
    {
      "cell_type": "code",
      "execution_count": 11,
      "metadata": {
        "id": "Xe7RXH3N3CWU"
      },
      "outputs": [
        {
          "name": "stdout",
          "output_type": "stream",
          "text": [
            "9/9 - 0s - loss: 3494.8337 - mae: 3494.8337 - mse: 46196956.0000 - 25ms/epoch - 3ms/step\n",
            "Testing set Mean Abs Error: 3494.83 expenses\n",
            "You passed the challenge. Great job!\n",
            "9/9 [==============================] - 0s 1ms/step\n"
          ]
        },
        {
          "data": {
            "image/png": "[encoded data removed]",
            "text/plain": [
              "<Figure size 640x480 with 1 Axes>"
            ]
          },
          "metadata": {},
          "output_type": "display_data"
        }
      ],
      "source": [
        "# RUN THIS CELL TO TEST YOUR MODEL. DO NOT MODIFY CONTENTS.\n",
        "# Test model by checking how well the model generalizes using the test set.\n",
        "loss, mae, mse = model.evaluate(test_dataset, test_labels, verbose=2)\n",
        "\n",
        "print(\"Testing set Mean Abs Error: {:5.2f} expenses\".format(mae))\n",
        "\n",
        "if mae < 3500:\n",
        "  print(\"You passed the challenge. Great job!\")\n",
        "else:\n",
        "  print(\"The Mean Abs Error must be less than 3500. Keep trying.\")\n",
        "\n",
        "# Plot predictions.\n",
        "test_predictions = model.predict(test_dataset).flatten()\n",
        "\n",
        "a = plt.axes(aspect='equal')\n",
        "plt.scatter(test_labels, test_predictions)\n",
        "plt.xlabel('True values (expenses)')\n",
        "plt.ylabel('Predictions (expenses)')\n",
        "lims = [0, 50000]\n",
        "plt.xlim(lims)\n",
        "plt.ylim(lims)\n",
        "_ = plt.plot(lims,lims)\n"
      ]
    }
  ],
  "metadata": {
    "colab": {
      "collapsed_sections": [],
      "name": "fcc_predict_health_costs_with_regression.ipynb",
      "private_outputs": true,
      "provenance": [],
      "toc_visible": true
    },
    "kernelspec": {
      "display_name": "Python 3",
      "name": "python3"
    },
    "language_info": {
      "codemirror_mode": {
        "name": "ipython",
        "version": 3
      },
      "file_extension": ".py",
      "mimetype": "text/x-python",
      "name": "python",
      "nbconvert_exporter": "python",
      "pygments_lexer": "ipython3",
      "version": "3.10.14"
    }
  },
  "nbformat": 4,
  "nbformat_minor": 0
}
